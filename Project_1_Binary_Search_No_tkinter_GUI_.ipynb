{
  "nbformat": 4,
  "nbformat_minor": 0,
  "metadata": {
    "colab": {
      "name": "Project 1 - Binary Search -No tkinter GUI .ipynb",
      "provenance": [],
      "authorship_tag": "ABX9TyNag03V4QavIbqpE4XE72RB",
      "include_colab_link": true
    },
    "kernelspec": {
      "name": "python3",
      "display_name": "Python 3"
    },
    "language_info": {
      "name": "python"
    }
  },
  "cells": [
    {
      "cell_type": "markdown",
      "metadata": {
        "id": "view-in-github",
        "colab_type": "text"
      },
      "source": [
        "<a href=\"https://colab.research.google.com/github/Leigh-Herman/Python-Problems/blob/main/Project_1_Binary_Search_No_tkinter_GUI_.ipynb\" target=\"_parent\"><img src=\"https://colab.research.google.com/assets/colab-badge.svg\" alt=\"Open In Colab\"/></a>"
      ]
    },
    {
      "cell_type": "markdown",
      "source": [
        "Well I just tried to create a GUI but of course google Colab is run on the servers and does not have any sort of display ability since, its a server.\n",
        "\n",
        "There are programs to make a display but they will not be interactive. Now to switch over to Jupyter Notebook through Anaconda.\n",
        "\n",
        "https://stackoverflow.com/questions/61168210/is-there-any-way-to-use-tkinter-with-google-colaboratory"
      ],
      "metadata": {
        "id": "7WPwp37PjG8x"
      }
    },
    {
      "cell_type": "code",
      "source": [
        "import matplotlib\n",
        "matplotlib.use('Agg')"
      ],
      "metadata": {
        "id": "Off8_3vrhzFY"
      },
      "execution_count": 1,
      "outputs": []
    },
    {
      "cell_type": "markdown",
      "source": [
        "# Recursive and Iterative Binary Search\n",
        "\n",
        "What is a binary search?\n",
        "The binary search algorithm works by dividing and conquoring.\n",
        "\n",
        "Start with a data list and a number that is to be found. Keep dividing the list into halves until the number is found. "
      ],
      "metadata": {
        "id": "NC07jMrmcyEC"
      }
    },
    {
      "cell_type": "markdown",
      "source": [
        "## An easy example\n",
        "\n",
        "Let's make a basic list and strat to look for the number 1."
      ],
      "metadata": {
        "id": "E0LCe0g7LtEf"
      }
    },
    {
      "cell_type": "code",
      "execution_count": 2,
      "metadata": {
        "colab": {
          "base_uri": "https://localhost:8080/"
        },
        "id": "mpS1fjUDcuhb",
        "outputId": "b3380b42-2494-422a-8356-b15b21948b04"
      },
      "outputs": [
        {
          "output_type": "stream",
          "name": "stdout",
          "text": [
            "[1, 2, 3, 4, 5, 6, 7, 8, 9, 10]\n"
          ]
        }
      ],
      "source": [
        "l = [1, 2, 3, 4, 5, 6, 7, 8, 9, 10]\n",
        "\n",
        "print(l)"
      ]
    },
    {
      "cell_type": "markdown",
      "source": [
        "We could visibly pick out the middle of this list and visually see that the 1 is in the lower half. We take that new list, find the mid and visually confirm the position of the one. Again and again we half the list until finally we will have the 1.\n",
        "\n",
        "Let's construct the algorithm iteratively and recusively.\n",
        "\n",
        "The iterative approach the track record of the list is kept manually. The search completes when the search number is found or the two pointers (first and last) are met."
      ],
      "metadata": {
        "id": "eOZVOwLNMAVH"
      }
    },
    {
      "cell_type": "code",
      "source": [
        "# Iterative Search\n",
        "\n",
        "def Iter_bimary_search(n, item):\n",
        "  left, right >0, len(n)\n",
        "  while right > left:\n",
        "    middle = (left + right)/2\n",
        "    if nums(middle) > item:\n",
        "      right = middle\n",
        "    elif nums(middle) < item:\n",
        "      left = middle + 1\n",
        "    else:\n",
        "      return middle\n",
        "  return none "
      ],
      "metadata": {
        "id": "3PMfTruBLya-"
      },
      "execution_count": 3,
      "outputs": []
    },
    {
      "cell_type": "markdown",
      "source": [
        "The recursive approach will call itself inside the body of the algorithm as it continues to produce new lists to search."
      ],
      "metadata": {
        "id": "eiR_H7XjOrg5"
      }
    },
    {
      "cell_type": "code",
      "source": [
        "# Recursive Search\n",
        "\n",
        "def recur_binary_search(n, item, start, end):\n",
        "  middle = (start + end) / 2\n",
        "\n",
        "  if start ==  end:\n",
        "    return None\n",
        "  \n",
        "  if n[middle] > item:\n",
        "    return recur_binary_search(n, item, start, middle)\n",
        "  elif nums(middle) < item:\n",
        "    return recur_binary_search(n, item, middle + 1, end)\n",
        "  else:\n",
        "    return middle\n",
        "\n"
      ],
      "metadata": {
        "id": "9JRgSNsRNby1"
      },
      "execution_count": 4,
      "outputs": []
    },
    {
      "cell_type": "markdown",
      "source": [
        "# Project\n",
        "\n",
        "This project will make use of the iterative approach to searching and will also ask the user to input the number being searched for while making use of the same list of numbers from one to ten.\n",
        "\n",
        "The project I am following makes use of the TinkerModule to create a GUI in Python."
      ],
      "metadata": {
        "id": "l0RtPPZyO9gZ"
      }
    },
    {
      "cell_type": "code",
      "source": [
        "from tkinter import *"
      ],
      "metadata": {
        "id": "d6oCQqgiOCC0"
      },
      "execution_count": 5,
      "outputs": []
    },
    {
      "cell_type": "code",
      "source": [
        "root = Tk()\n",
        "\n",
        "text_var = tkinter.StringVar()\n",
        "text_var.set(\"Hello from a variable!\")\n",
        "tkinter.Label(root, textvariable=text_var).pack()\n",
        "\n",
        "root.mainloop()"
      ],
      "metadata": {
        "colab": {
          "base_uri": "https://localhost:8080/",
          "height": 357
        },
        "id": "arrHmj3oh8wZ",
        "outputId": "0c5bd000-c497-4670-a26f-502be6cd8b18"
      },
      "execution_count": 6,
      "outputs": [
        {
          "output_type": "error",
          "ename": "TclError",
          "evalue": "ignored",
          "traceback": [
            "\u001b[0;31m---------------------------------------------------------------------------\u001b[0m",
            "\u001b[0;31mTclError\u001b[0m                                  Traceback (most recent call last)",
            "\u001b[0;32m<ipython-input-6-955279f53fab>\u001b[0m in \u001b[0;36m<module>\u001b[0;34m()\u001b[0m\n\u001b[0;32m----> 1\u001b[0;31m \u001b[0mroot\u001b[0m \u001b[0;34m=\u001b[0m \u001b[0mTk\u001b[0m\u001b[0;34m(\u001b[0m\u001b[0;34m)\u001b[0m\u001b[0;34m\u001b[0m\u001b[0;34m\u001b[0m\u001b[0m\n\u001b[0m\u001b[1;32m      2\u001b[0m \u001b[0;34m\u001b[0m\u001b[0m\n\u001b[1;32m      3\u001b[0m \u001b[0mtext_var\u001b[0m \u001b[0;34m=\u001b[0m \u001b[0mtkinter\u001b[0m\u001b[0;34m.\u001b[0m\u001b[0mStringVar\u001b[0m\u001b[0;34m(\u001b[0m\u001b[0;34m)\u001b[0m\u001b[0;34m\u001b[0m\u001b[0;34m\u001b[0m\u001b[0m\n\u001b[1;32m      4\u001b[0m \u001b[0mtext_var\u001b[0m\u001b[0;34m.\u001b[0m\u001b[0mset\u001b[0m\u001b[0;34m(\u001b[0m\u001b[0;34m\"Hello from a variable!\"\u001b[0m\u001b[0;34m)\u001b[0m\u001b[0;34m\u001b[0m\u001b[0;34m\u001b[0m\u001b[0m\n\u001b[1;32m      5\u001b[0m \u001b[0mtkinter\u001b[0m\u001b[0;34m.\u001b[0m\u001b[0mLabel\u001b[0m\u001b[0;34m(\u001b[0m\u001b[0mroot\u001b[0m\u001b[0;34m,\u001b[0m \u001b[0mtextvariable\u001b[0m\u001b[0;34m=\u001b[0m\u001b[0mtext_var\u001b[0m\u001b[0;34m)\u001b[0m\u001b[0;34m.\u001b[0m\u001b[0mpack\u001b[0m\u001b[0;34m(\u001b[0m\u001b[0;34m)\u001b[0m\u001b[0;34m\u001b[0m\u001b[0;34m\u001b[0m\u001b[0m\n",
            "\u001b[0;32m/usr/lib/python3.7/tkinter/__init__.py\u001b[0m in \u001b[0;36m__init__\u001b[0;34m(self, screenName, baseName, className, useTk, sync, use)\u001b[0m\n\u001b[1;32m   2021\u001b[0m                 \u001b[0mbaseName\u001b[0m \u001b[0;34m=\u001b[0m \u001b[0mbaseName\u001b[0m \u001b[0;34m+\u001b[0m \u001b[0mext\u001b[0m\u001b[0;34m\u001b[0m\u001b[0;34m\u001b[0m\u001b[0m\n\u001b[1;32m   2022\u001b[0m         \u001b[0minteractive\u001b[0m \u001b[0;34m=\u001b[0m \u001b[0;36m0\u001b[0m\u001b[0;34m\u001b[0m\u001b[0;34m\u001b[0m\u001b[0m\n\u001b[0;32m-> 2023\u001b[0;31m         \u001b[0mself\u001b[0m\u001b[0;34m.\u001b[0m\u001b[0mtk\u001b[0m \u001b[0;34m=\u001b[0m \u001b[0m_tkinter\u001b[0m\u001b[0;34m.\u001b[0m\u001b[0mcreate\u001b[0m\u001b[0;34m(\u001b[0m\u001b[0mscreenName\u001b[0m\u001b[0;34m,\u001b[0m \u001b[0mbaseName\u001b[0m\u001b[0;34m,\u001b[0m \u001b[0mclassName\u001b[0m\u001b[0;34m,\u001b[0m \u001b[0minteractive\u001b[0m\u001b[0;34m,\u001b[0m \u001b[0mwantobjects\u001b[0m\u001b[0;34m,\u001b[0m \u001b[0museTk\u001b[0m\u001b[0;34m,\u001b[0m \u001b[0msync\u001b[0m\u001b[0;34m,\u001b[0m \u001b[0muse\u001b[0m\u001b[0;34m)\u001b[0m\u001b[0;34m\u001b[0m\u001b[0;34m\u001b[0m\u001b[0m\n\u001b[0m\u001b[1;32m   2024\u001b[0m         \u001b[0;32mif\u001b[0m \u001b[0museTk\u001b[0m\u001b[0;34m:\u001b[0m\u001b[0;34m\u001b[0m\u001b[0;34m\u001b[0m\u001b[0m\n\u001b[1;32m   2025\u001b[0m             \u001b[0mself\u001b[0m\u001b[0;34m.\u001b[0m\u001b[0m_loadtk\u001b[0m\u001b[0;34m(\u001b[0m\u001b[0;34m)\u001b[0m\u001b[0;34m\u001b[0m\u001b[0;34m\u001b[0m\u001b[0m\n",
            "\u001b[0;31mTclError\u001b[0m: no display name and no $DISPLAY environment variable"
          ]
        }
      ]
    },
    {
      "cell_type": "markdown",
      "source": [
        "Next we create the iterative binary search algorithm"
      ],
      "metadata": {
        "id": "xp_FO922PbUO"
      }
    },
    {
      "cell_type": "code",
      "source": [
        "def bianry_search(n, itme):\n",
        "  l=e.get().split(\" \")\n",
        "\n",
        "  for i in range(0, len(l)):\n",
        "    l[i] = int(l(i))\n",
        "\n",
        "    num = (n.get())\n",
        "    first = 0\n",
        "    last = len(l) - 1\n",
        "\n",
        "    found = False\n",
        "\n",
        "    while(first <= last and not found):\n",
        "      mid = (first + last) /2\n",
        "      if(l(mid) == num):\n",
        "        found = True\n",
        "      else:\n",
        "        if num < l(mid):\n",
        "          last = mid - 1\n",
        "        else:\n",
        "          first = mid + 1\n",
        "      if found == True:\n",
        "        Label(window, text=\"Number found in this list\", font = ('Calibri')).place(x=200, y=180)\n",
        "      else:\n",
        "        Label(window, text=\"Number NOT found in this list\", font = ('Calibri')).place(x=240, y=210)"
      ],
      "metadata": {
        "id": "liAHxGjrPYZH"
      },
      "execution_count": 6,
      "outputs": []
    },
    {
      "cell_type": "markdown",
      "source": [
        "\n",
        "\n",
        "*   The get() method will get the number in the list and is a single string for now. To convert this into elements and store it in a list, use the split(\" \") function which is used to split a string using a delimiter.\n",
        "* We get a number from the user and save it using the get() method and it is stored as a num variable\n",
        "* Two variables, first and last, store the first and last index number and using len() we get the length of the list\n",
        "* As in the above example, using the if loops, we will continue to use the same steps  until the first index is not equal to the last index which will mean that list more than 1 item. Checking if that number is equal to mid, if yes, we will get an output print that the number has be found, else not.\n",
        "* The Label() function will display the resulting text and the place() is used to manually tell the program where to put this text display\n"
      ],
      "metadata": {
        "id": "CKiDwTJJQo0u"
      }
    },
    {
      "cell_type": "markdown",
      "source": [
        "# Creatiung the GUI"
      ],
      "metadata": {
        "id": "44XfBJa2SEQV"
      }
    },
    {
      "cell_type": "code",
      "source": [
        "#Import tkinter library\n",
        "#Create an instance of Tkinter frame or window\n",
        "win= Tk()\n",
        "#Set the geometry of tkinter frame\n",
        "win.geometry(\"750x250\")\n",
        "def callback():\n",
        "   Label(win, text=\"Hello World!\", font=('Century 20 bold')).pack(pady=4)\n",
        "#Create a Label and a Button widget\n",
        "btn=Button(win, text=\"Press Enter\", command= callback)\n",
        "btn.pack(ipadx=10)\n",
        "win.bind('<Return>',lambda event:callback())\n",
        "win.mainloop()"
      ],
      "metadata": {
        "colab": {
          "base_uri": "https://localhost:8080/",
          "height": 357
        },
        "id": "DP0yAuoShI-r",
        "outputId": "d39ec87e-e3c6-4de2-c818-900b41c59403"
      },
      "execution_count": 7,
      "outputs": [
        {
          "output_type": "error",
          "ename": "TclError",
          "evalue": "ignored",
          "traceback": [
            "\u001b[0;31m---------------------------------------------------------------------------\u001b[0m",
            "\u001b[0;31mTclError\u001b[0m                                  Traceback (most recent call last)",
            "\u001b[0;32m<ipython-input-7-dd00281e0cf4>\u001b[0m in \u001b[0;36m<module>\u001b[0;34m()\u001b[0m\n\u001b[1;32m      1\u001b[0m \u001b[0;31m#Import tkinter library\u001b[0m\u001b[0;34m\u001b[0m\u001b[0;34m\u001b[0m\u001b[0;34m\u001b[0m\u001b[0m\n\u001b[1;32m      2\u001b[0m \u001b[0;31m#Create an instance of Tkinter frame or window\u001b[0m\u001b[0;34m\u001b[0m\u001b[0;34m\u001b[0m\u001b[0;34m\u001b[0m\u001b[0m\n\u001b[0;32m----> 3\u001b[0;31m \u001b[0mwin\u001b[0m\u001b[0;34m=\u001b[0m \u001b[0mTk\u001b[0m\u001b[0;34m(\u001b[0m\u001b[0;34m)\u001b[0m\u001b[0;34m\u001b[0m\u001b[0;34m\u001b[0m\u001b[0m\n\u001b[0m\u001b[1;32m      4\u001b[0m \u001b[0;31m#Set the geometry of tkinter frame\u001b[0m\u001b[0;34m\u001b[0m\u001b[0;34m\u001b[0m\u001b[0;34m\u001b[0m\u001b[0m\n\u001b[1;32m      5\u001b[0m \u001b[0mwin\u001b[0m\u001b[0;34m.\u001b[0m\u001b[0mgeometry\u001b[0m\u001b[0;34m(\u001b[0m\u001b[0;34m\"750x250\"\u001b[0m\u001b[0;34m)\u001b[0m\u001b[0;34m\u001b[0m\u001b[0;34m\u001b[0m\u001b[0m\n",
            "\u001b[0;32m/usr/lib/python3.7/tkinter/__init__.py\u001b[0m in \u001b[0;36m__init__\u001b[0;34m(self, screenName, baseName, className, useTk, sync, use)\u001b[0m\n\u001b[1;32m   2021\u001b[0m                 \u001b[0mbaseName\u001b[0m \u001b[0;34m=\u001b[0m \u001b[0mbaseName\u001b[0m \u001b[0;34m+\u001b[0m \u001b[0mext\u001b[0m\u001b[0;34m\u001b[0m\u001b[0;34m\u001b[0m\u001b[0m\n\u001b[1;32m   2022\u001b[0m         \u001b[0minteractive\u001b[0m \u001b[0;34m=\u001b[0m \u001b[0;36m0\u001b[0m\u001b[0;34m\u001b[0m\u001b[0;34m\u001b[0m\u001b[0m\n\u001b[0;32m-> 2023\u001b[0;31m         \u001b[0mself\u001b[0m\u001b[0;34m.\u001b[0m\u001b[0mtk\u001b[0m \u001b[0;34m=\u001b[0m \u001b[0m_tkinter\u001b[0m\u001b[0;34m.\u001b[0m\u001b[0mcreate\u001b[0m\u001b[0;34m(\u001b[0m\u001b[0mscreenName\u001b[0m\u001b[0;34m,\u001b[0m \u001b[0mbaseName\u001b[0m\u001b[0;34m,\u001b[0m \u001b[0mclassName\u001b[0m\u001b[0;34m,\u001b[0m \u001b[0minteractive\u001b[0m\u001b[0;34m,\u001b[0m \u001b[0mwantobjects\u001b[0m\u001b[0;34m,\u001b[0m \u001b[0museTk\u001b[0m\u001b[0;34m,\u001b[0m \u001b[0msync\u001b[0m\u001b[0;34m,\u001b[0m \u001b[0muse\u001b[0m\u001b[0;34m)\u001b[0m\u001b[0;34m\u001b[0m\u001b[0;34m\u001b[0m\u001b[0m\n\u001b[0m\u001b[1;32m   2024\u001b[0m         \u001b[0;32mif\u001b[0m \u001b[0museTk\u001b[0m\u001b[0;34m:\u001b[0m\u001b[0;34m\u001b[0m\u001b[0;34m\u001b[0m\u001b[0m\n\u001b[1;32m   2025\u001b[0m             \u001b[0mself\u001b[0m\u001b[0;34m.\u001b[0m\u001b[0m_loadtk\u001b[0m\u001b[0;34m(\u001b[0m\u001b[0;34m)\u001b[0m\u001b[0;34m\u001b[0m\u001b[0;34m\u001b[0m\u001b[0m\n",
            "\u001b[0;31mTclError\u001b[0m: no display name and no $DISPLAY environment variable"
          ]
        }
      ]
    },
    {
      "cell_type": "code",
      "source": [
        "import tkinter\n",
        "\n",
        "root = tkinter.Tk()\n",
        "\n",
        "text_var = tkinter.StringVar()\n",
        "text_var.set(\"Hello from a variable!\")\n",
        "tkinter.Label(root, textvariable=text_var).pack()\n",
        "\n",
        "root.mainloop()"
      ],
      "metadata": {
        "id": "i-1IRx7XhAQB"
      },
      "execution_count": null,
      "outputs": []
    },
    {
      "cell_type": "code",
      "source": [
        "import tkinter\n",
        "root = tkinter.Tk()\n",
        "frm = tkinter.Frame(root, padding=10)\n",
        "frm.grid()\n",
        "tkinter.Label(frm, text=\"Hello World!\").grid(column=0, row=0)\n",
        "tkinter.Button(frm, text=\"Quit\", command=root.destroy).grid(column=1, row=0)\n",
        "root.mainloop()"
      ],
      "metadata": {
        "id": "UrkSQ_yIgQQ4"
      },
      "execution_count": null,
      "outputs": []
    },
    {
      "cell_type": "code",
      "source": [
        "# Create the instance of the tkinter frame or window\n",
        "window = Tk()\n",
        "\n",
        "# Set the size of the tkinter window\n",
        "window.geometry(\"700x350\")\n",
        "window.title(\"FIND MY NUMBER\")\n",
        "head = Label(window, text=\"Let's perform a Binary Search\", font=('Calibri 15'))\n",
        "head.pack(pady=20)\n",
        "ttk.Label(window, text=\"Enter a number you want to search\", font=('Calibri')).pack()"
      ],
      "metadata": {
        "id": "LcJhduGNQdUG"
      },
      "execution_count": null,
      "outputs": []
    },
    {
      "cell_type": "code",
      "source": [
        ""
      ],
      "metadata": {
        "id": "Yr_ccdaWcR2X"
      },
      "execution_count": null,
      "outputs": []
    }
  ]
}