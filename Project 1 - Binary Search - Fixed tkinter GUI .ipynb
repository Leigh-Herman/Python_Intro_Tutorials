{
 "cells": [
  {
   "cell_type": "markdown",
   "metadata": {
    "id": "7WPwp37PjG8x"
   },
   "source": [
    "I am now over in Jupyter Notebooks and we are going to try all of this again. Probably also going to write a couple scripts displaying some of the tkinter examples.\n",
    "\n",
    "\n",
    "I just tried to create a GUI but of course google Colab is run on the servers and does not have any sort of display ability since, its a server.\n",
    "\n",
    "There are programs to make a display but they will not be interactive. Now to switch over to Jupyter Notebook through Anaconda.\n",
    "\n",
    "https://stackoverflow.com/questions/61168210/is-there-any-way-to-use-tkinter-with-google-colaboratory"
   ]
  },
  {
   "cell_type": "code",
   "execution_count": 1,
   "metadata": {
    "executionInfo": {
     "elapsed": 4,
     "status": "ok",
     "timestamp": 1654208935060,
     "user": {
      "displayName": "Leigh Herman",
      "userId": "01955714242739754175"
     },
     "user_tz": 150
    },
    "id": "Off8_3vrhzFY"
   },
   "outputs": [],
   "source": [
    "# Comment this out for now\n",
    "# import matplotlib\n",
    "# matplotlib.use('Agg')"
   ]
  },
  {
   "cell_type": "markdown",
   "metadata": {
    "id": "NC07jMrmcyEC"
   },
   "source": [
    "# Recursive and Iterative Binary Search\n",
    "\n",
    "What is a binary search?\n",
    "The binary search algorithm works by dividing and conquoring.\n",
    "\n",
    "Start with a data list and a number that is to be found. Keep dividing the list into halves until the number is found. "
   ]
  },
  {
   "cell_type": "markdown",
   "metadata": {
    "id": "E0LCe0g7LtEf"
   },
   "source": [
    "## An easy example\n",
    "\n",
    "Let's make a basic list and strat to look for the number 1."
   ]
  },
  {
   "cell_type": "code",
   "execution_count": 2,
   "metadata": {
    "colab": {
     "base_uri": "https://localhost:8080/"
    },
    "executionInfo": {
     "elapsed": 6,
     "status": "ok",
     "timestamp": 1654208936414,
     "user": {
      "displayName": "Leigh Herman",
      "userId": "01955714242739754175"
     },
     "user_tz": 150
    },
    "id": "mpS1fjUDcuhb",
    "outputId": "b3380b42-2494-422a-8356-b15b21948b04"
   },
   "outputs": [],
   "source": [
    "# l = [1, 2, 3, 4, 5, 6, 7, 8, 9, 10]\n",
    "\n",
    "# print(l)"
   ]
  },
  {
   "cell_type": "markdown",
   "metadata": {
    "id": "eOZVOwLNMAVH"
   },
   "source": [
    "We could visibly pick out the middle of this list and visually see that the 1 is in the lower half. We take that new list, find the mid and visually confirm the position of the one. Again and again we half the list until finally we will have the 1.\n",
    "\n",
    "Let's construct the algorithm iteratively and recusively.\n",
    "\n",
    "The iterative approach the track record of the list is kept manually. The search completes when the search number is found or the two pointers (first and last) are met."
   ]
  },
  {
   "cell_type": "markdown",
   "metadata": {
    "executionInfo": {
     "elapsed": 199,
     "status": "ok",
     "timestamp": 1654208938130,
     "user": {
      "displayName": "Leigh Herman",
      "userId": "01955714242739754175"
     },
     "user_tz": 150
    },
    "id": "3PMfTruBLya-"
   },
   "source": [
    "# Iterative Search\n",
    "\n",
    "def Iter_bimary_search(n, item):\n",
    "  left, right >0, len(n)\n",
    "  while right > left:\n",
    "    middle = (left + right)/2\n",
    "    if nums(middle) > item:\n",
    "      right = middle\n",
    "    elif nums(middle) < item:\n",
    "      left = middle + 1\n",
    "    else:\n",
    "      return middle\n",
    "  return none "
   ]
  },
  {
   "cell_type": "markdown",
   "metadata": {
    "id": "eiR_H7XjOrg5"
   },
   "source": [
    "The recursive approach will call itself inside the body of the algorithm as it continues to produce new lists to search."
   ]
  },
  {
   "cell_type": "markdown",
   "metadata": {
    "executionInfo": {
     "elapsed": 187,
     "status": "ok",
     "timestamp": 1654208939773,
     "user": {
      "displayName": "Leigh Herman",
      "userId": "01955714242739754175"
     },
     "user_tz": 150
    },
    "id": "9JRgSNsRNby1"
   },
   "source": [
    "# Recursive Search\n",
    "\n",
    "def recur_binary_search(n, item, start, end):\n",
    "  middle = (start + end) / 2\n",
    "\n",
    "  if start ==  end:\n",
    "    return None\n",
    "  \n",
    "  if n[middle] > item:\n",
    "    return recur_binary_search(n, item, start, middle)\n",
    "  elif nums(middle) < item:\n",
    "    return recur_binary_search(n, item, middle + 1, end)\n",
    "  else:\n",
    "    return middle\n",
    "\n"
   ]
  },
  {
   "cell_type": "markdown",
   "metadata": {
    "id": "l0RtPPZyO9gZ"
   },
   "source": [
    "# Project\n",
    "\n",
    "This project will make use of the iterative approach to searching and will also ask the user to input the number being searched for while making use of the same list of numbers from one to ten."
   ]
  },
  {
   "cell_type": "markdown",
   "metadata": {
    "id": "44XfBJa2SEQV"
   },
   "source": [
    "# Creating the GUI\n",
    "\n",
    "The project I am following makes use of the TinkerModule to create a GUI in Python. I have another notebook with some basic examples"
   ]
  },
  {
   "cell_type": "code",
   "execution_count": 3,
   "metadata": {},
   "outputs": [],
   "source": [
    "from tkinter import *\n",
    "import tkinter as tk"
   ]
  },
  {
   "cell_type": "code",
   "execution_count": 4,
   "metadata": {
    "executionInfo": {
     "elapsed": 8,
     "status": "aborted",
     "timestamp": 1654208817908,
     "user": {
      "displayName": "Leigh Herman",
      "userId": "01955714242739754175"
     },
     "user_tz": 150
    },
    "id": "LcJhduGNQdUG"
   },
   "outputs": [],
   "source": [
    "# Create the instance of the tkinter frame or window\n",
    "window = Tk()\n",
    "\n",
    "# Set the size of the tkinter window\n",
    "window.geometry(\"700x350\")\n",
    "# Give the window a title\n",
    "window.title(\"FIND MY NUMBER\")\n",
    "# A heading\n",
    "head = Label(window, text=\"Let's perform a Binary Search\", font=('Calibri 15'))\n",
    "head.pack(pady=20)\n",
    "tk.Label(window, text=\"Enter a Sorted List\", font=('Calibri')).pack(pady=10)\n",
    "tk.Label(window, text=\"Enter a number you want to search\", font=('Calibri')).pack(pady=5)"
   ]
  },
  {
   "cell_type": "markdown",
   "metadata": {
    "executionInfo": {
     "elapsed": 8,
     "status": "aborted",
     "timestamp": 1654208817908,
     "user": {
      "displayName": "Leigh Herman",
      "userId": "01955714242739754175"
     },
     "user_tz": 150
    },
    "id": "Yr_ccdaWcR2X"
   },
   "source": [
    "* To create the display window we use the Tk() function which we can set the attributes like the size, geometry() and title using title()\n",
    "* The two labels are also given to the widget which we can set the font, size, text, forground colour, background colour, etc.\n",
    "* To display the labels on the window we use the pack() function"
   ]
  },
  {
   "cell_type": "code",
   "execution_count": 5,
   "metadata": {},
   "outputs": [],
   "source": [
    "n = tk.IntVar()\n",
    "e = tk.StringVar()"
   ]
  },
  {
   "cell_type": "markdown",
   "metadata": {
    "id": "xp_FO922PbUO"
   },
   "source": [
    "Next we create the iterative binary search algorithm"
   ]
  },
  {
   "cell_type": "code",
   "execution_count": 6,
   "metadata": {
    "executionInfo": {
     "elapsed": 14,
     "status": "ok",
     "timestamp": 1654208817685,
     "user": {
      "displayName": "Leigh Herman",
      "userId": "01955714242739754175"
     },
     "user_tz": 150
    },
    "id": "liAHxGjrPYZH"
   },
   "outputs": [],
   "source": [
    "def binary_search():\n",
    "    l=e.get().split(\" \")\n",
    "    for i in range(0, len(l)):\n",
    "        l[i] = int(l[i])\n",
    "    \n",
    "    num=(n.get())\n",
    "    first = 0\n",
    "    last = len(l)-1\n",
    "    found = False\n",
    "    while( first<=last and not found):\n",
    "        mid = (first + last)//2\n",
    "        if (l[mid] == num) :\n",
    "                found = True\n",
    "        else:\n",
    "            if num < l[mid]:\n",
    "                last = mid - 1\n",
    "            else:\n",
    "                first = mid + 1\t\n",
    "    if found == True:\n",
    "        Label(window, text=\"Number found in the list\", font=('Calibri')).place(x=240, y=210)\n",
    "    else:\n",
    "        Label(window, text=\"Number NOT found in the list\", font=('Calibri')).place(x=240,y=220)"
   ]
  },
  {
   "cell_type": "markdown",
   "metadata": {
    "id": "CKiDwTJJQo0u"
   },
   "source": [
    "\n",
    "\n",
    "*   The get() method will get the number in the list and is a single string for now. To convert this into elements and store it in a list, use the split(\" \") function which is used to split a string using a delimiter.\n",
    "* We get a number from the user and save it using the get() method and it is stored as a num variable\n",
    "* Two variables, first and last, store the first and last index number and using len() we get the length of the list\n",
    "* As in the above example, using the if loops, we will continue to use the same steps  until the first index is not equal to the last index which will mean that list more than 1 item. Checking if that number is equal to mid, if yes, we will get an output print that the number has be found, else not.\n",
    "* The Label() function will display the resulting text and the place() is used to manually tell the program where to put this text display\n"
   ]
  },
  {
   "cell_type": "markdown",
   "metadata": {},
   "source": [
    "* We now have to create an entry field for the user to enter numbers to be searched. Use the Entry() function and inside it the text variable, which we will use n, so that the text entered by the user will be stored in n\n",
    "* There will also be a field created for the sorted list\n",
    "* Finally to initiate the binary_search function, we will need to create a button to allow the user press to start the search after entering the necessary data"
   ]
  },
  {
   "cell_type": "code",
   "execution_count": 7,
   "metadata": {},
   "outputs": [],
   "source": [
    "# Some developer error to find just the right spot to put everything. New widget creation tools neede\n",
    "Entry(window, textvariable=e).place(x=280, y=110)\n",
    "Entry(window, textvariable=n).place(x=280, y=150)\n",
    "\n",
    "Button(window, text=\"Search\", command=binary_search).place(x=310, y=175) "
   ]
  },
  {
   "cell_type": "code",
   "execution_count": 8,
   "metadata": {},
   "outputs": [],
   "source": [
    "window.mainloop()"
   ]
  }
 ],
 "metadata": {
  "colab": {
   "authorship_tag": "ABX9TyNag03V4QavIbqpE4XE72RB",
   "name": "Project 1 - Binary Search -No tkinter GUI .ipynb",
   "provenance": []
  },
  "kernelspec": {
   "display_name": "Python 3 (ipykernel)",
   "language": "python",
   "name": "python3"
  },
  "language_info": {
   "codemirror_mode": {
    "name": "ipython",
    "version": 3
   },
   "file_extension": ".py",
   "mimetype": "text/x-python",
   "name": "python",
   "nbconvert_exporter": "python",
   "pygments_lexer": "ipython3",
   "version": "3.9.12"
  }
 },
 "nbformat": 4,
 "nbformat_minor": 1
}
